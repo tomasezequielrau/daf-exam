{
 "cells": [
  {
   "cell_type": "markdown",
   "source": [
    "# Problema 1 (SQL)\n",
    "Resolver las siguientes preguntas solo con ayuda de sql.\n",
    "\n",
    "2. ¿En qué weather station se registra el mayor incremento de días con niebla (fog) de un mes al próximo y en qué mes?\n",
    "\n",
    "\n",
    "\n",
    "## Esquema de la tabla weather_station\n",
    "\n",
    "| Field name | Type | Description |\n",
    "|---|---|---|\n",
    "| weather_station_country_code | STRING | Abbreviation of the country where the weather station is allocated |\n",
    "| weather_station_country_name | STRING | Name of the country where the weather station is allocated |\n",
    "| weather_station_name | STRING | Name of the weather station |\n",
    "| weather_station_id | STRING | Cloud - GSOD NOAA |\n",
    "| wban | STRING | WBAN number where applicable--this is the <br>historical \"Weather Bureau Air Force Navy\" number - <br>with WBAN being the acronym |\n",
    "| date | DATE | Date of the weather observations |\n",
    "| year | STRING | The year |\n",
    "| mo | STRING | The month |\n",
    "| da | STRING | The day |\n",
    "| temp | FLOAT | Mean temperature for the day in degrees Fahrenheit to tenths. Missing = 9999.9 |\n",
    "| count_temp | INTEGER | Number of observations used in calculating mean temperature |\n",
    "| dewp | FLOAT | Mean dew point for the day in degreesm Fahrenheit to tenths. Missing = 9999.9 |\n",
    "| count_dewp | INTEGER | Number of observations used in calculating mean dew point |\n",
    "| slp | FLOAT | Mean sea level pressure for the day in millibars to tenths. Missing = 9999.9 |\n",
    "| count_slp | INTEGER | Number of observations used in calculating mean sea level pressure |\n",
    "| stp | FLOAT | Mean station pressure for the day in millibars to tenths. Missing = 9999.9 |\n",
    "| count_stp | INTEGER | Number of observations used in calculating mean station pressure |\n",
    "| visib | FLOAT | Mean visibility for the day in miles to tenths. Missing = 999.9 |\n",
    "| count_visib | INTEGER | Number of observations used in calculating mean visibility |\n",
    "| wdsp | STRING | Mean wind speed for the day in knots to tenths. Missing = 999.9 |\n",
    "| count_wdsp | STRING | Number of observations used in calculating mean wind speed |\n",
    "| mxpsd | STRING | Maximum sustained wind speed reported for the day in knots to tenths. Missing = 999.9 |\n",
    "| gust | FLOAT | Maximum wind gust reported for the day in knots to tenths. Missing = 999.9 |\n",
    "| max | FLOAT | Maximum temperature reported during the day in Fahrenheit to tenths--time of max temp report varies by country and region, so this will sometimes not be the max for the calendar day. Missing = 9999.9 |\n",
    "| flag_max | STRING | Blank indicates max temp was taken from the explicit max temp report and not from the 'hourly' data. * indicates max temp was derived from the hourly data (i.e., highest hourly or synoptic-reported temperature) |\n",
    "| min | FLOAT | Minimum temperature reported during the day in Fahrenheit to tenths--time of min temp report varies by country and region, so this will sometimes not be the min for the calendar day. Missing = 9999.9 |\n",
    "| flag_min | STRING | Blank indicates min temp was taken from the explicit min temp report and not from the 'hourly' data. * indicates min temp was derived from the hourly data (i.e., lowest hourly or synoptic-reported temperature) |\n",
    "| prcp | FLOAT | Total precipitation (rain and/or melted snow) reported during the day in inches and hundredths; will usually not end with the midnight observation--i.e., may include latter part of previous day. .00 indicates no measurable precipitation (includes a trace). Missing = 99.99 Note: Many stations do not report '0' on days with no precipitation--therefore, '99.99' will often appear on these days. Also, for example, a station may only report a 6-hour amount for the period during which rain fell. See Flag field for source of data |\n",
    "| flag_prcp | STRING | A = 1 report of 6-hour precipitation amount B = Summation of 2 reports of 6-hour precipitation amount C = Summation of 3 reports of 6-hour precipitation amount D = Summation of 4 reports of 6-hour precipitation amount E = 1 report of 12-hour precipitation amount F = Summation of 2 reports of 12-hour precipitation amount G = 1 report of 24-hour precipitation amount H = Station reported '0' as the amount for the day (eg, from 6-hour reports), but also reported at least one occurrence of precipitation in hourly observations--this could indicate a trace occurred, but should be considered as incomplete data for the day. I = Station did not report any precip data for the day and did not report any occurrences of precipitation in its hourly observations--it's still possible that precip occurred but was not reported |\n",
    "| sndp | FLOAT | Snow depth in inches to tenths--last report for the day if reported more thanonce. Missing = 999.9 Note: Most stations do not report '0' ondays with no snow on the ground--therefore, '999.9' will often appear on these days |\n",
    "| fog | STRING | Indicators (1 = yes, 0 = no/not reported) for the occurrence during the day |\n",
    "| rain_drizzle | STRING | Indicators (1 = yes, 0 = no/not reported) for the occurrence during the day |\n",
    "| snow_ice_pellets | STRING | Indicators (1 = yes, 0 = no/not reported) for the occurrence during the day |\n",
    "| hail | STRING | Indicators (1 = yes, 0 = no/not reported) for the occurrence during the day |\n",
    "| thunder | STRING | Indicators (1 = yes, 0 = no/not reported) for the occurrence during the day |\n",
    "| tornado_funnel_cloud | STRING | Indicators (1 = yes, 0 = no/not reported) for the occurrence during the day |"
   ],
   "metadata": {
    "collapsed": false,
    "pycharm": {
     "name": "#%% md\n"
    }
   }
  },
  {
   "cell_type": "code",
   "execution_count": 1,
   "outputs": [],
   "source": [
    "import pandas as pd\n",
    "import sqlite3"
   ],
   "metadata": {
    "collapsed": false,
    "pycharm": {
     "name": "#%%\n"
    }
   }
  },
  {
   "cell_type": "code",
   "execution_count": 2,
   "id": "3364add1",
   "metadata": {
    "pycharm": {
     "name": "#%%\n"
    }
   },
   "outputs": [],
   "source": [
    "db_connection = sqlite3.connect('../data/weather_station.db')"
   ]
  },
  {
   "cell_type": "code",
   "execution_count": 3,
   "outputs": [
    {
     "data": {
      "text/plain": "   index weather_station_country_code weather_station_country_name  \\\n0      0                           UY                      Uruguay   \n1      1                           UY                      Uruguay   \n2      2                           UY                      Uruguay   \n3      3                           UY                      Uruguay   \n4      4                           UY                      Uruguay   \n5      5                           UY                      Uruguay   \n6      6                           UY                      Uruguay   \n7      7                           UY                      Uruguay   \n8      8                           UY                      Uruguay   \n9      9                           UY                      Uruguay   \n\n  weather_station_name weather_station_id   wban        date  year  mo  da  \\\n0    AEROCLUB MARAGATO             865501  99999  2021-01-01  2021  01  01   \n1    AEROCLUB MARAGATO             865501  99999  2021-01-02  2021  01  02   \n2    AEROCLUB MARAGATO             865501  99999  2021-01-03  2021  01  03   \n3    AEROCLUB MARAGATO             865501  99999  2021-01-04  2021  01  04   \n4    AEROCLUB MARAGATO             865501  99999  2021-01-05  2021  01  05   \n5    AEROCLUB MARAGATO             865501  99999  2021-01-06  2021  01  06   \n6    AEROCLUB MARAGATO             865501  99999  2021-01-07  2021  01  07   \n7    AEROCLUB MARAGATO             865501  99999  2021-01-08  2021  01  08   \n8    AEROCLUB MARAGATO             865501  99999  2021-01-09  2021  01  09   \n9    AEROCLUB MARAGATO             865501  99999  2021-01-10  2021  01  10   \n\n   ...  flag_min   prcp  flag_prcp   sndp  fog  rain_drizzle  \\\n0  ...         *   0.00          I  999.9    0             0   \n1  ...         *   0.00          I  999.9    0             0   \n2  ...         *   0.00          I  999.9    0             0   \n3  ...         *   0.00          I  999.9    0             0   \n4  ...         *   0.20          A  999.9    1             0   \n5  ...         *   0.00          I  999.9    0             0   \n6  ...         *  99.99       None  999.9    1             0   \n7  ...         *   0.00          G  999.9    0             0   \n8  ...         *  99.99       None  999.9    1             0   \n9  ...         *   0.00          I  999.9    0             0   \n\n   snow_ice_pellets  hail  thunder  tornado_funnel_cloud  \n0                 0     0        0                     0  \n1                 0     0        0                     0  \n2                 0     0        0                     0  \n3                 0     0        0                     0  \n4                 0     1        0                 10010  \n5                 0     0        0                     0  \n6                 0     0        0                 10000  \n7                 0     0        0                     0  \n8                 0     0        0                 10000  \n9                 0     0        0                     0  \n\n[10 rows x 37 columns]",
      "text/html": "<div>\n<style scoped>\n    .dataframe tbody tr th:only-of-type {\n        vertical-align: middle;\n    }\n\n    .dataframe tbody tr th {\n        vertical-align: top;\n    }\n\n    .dataframe thead th {\n        text-align: right;\n    }\n</style>\n<table border=\"1\" class=\"dataframe\">\n  <thead>\n    <tr style=\"text-align: right;\">\n      <th></th>\n      <th>index</th>\n      <th>weather_station_country_code</th>\n      <th>weather_station_country_name</th>\n      <th>weather_station_name</th>\n      <th>weather_station_id</th>\n      <th>wban</th>\n      <th>date</th>\n      <th>year</th>\n      <th>mo</th>\n      <th>da</th>\n      <th>...</th>\n      <th>flag_min</th>\n      <th>prcp</th>\n      <th>flag_prcp</th>\n      <th>sndp</th>\n      <th>fog</th>\n      <th>rain_drizzle</th>\n      <th>snow_ice_pellets</th>\n      <th>hail</th>\n      <th>thunder</th>\n      <th>tornado_funnel_cloud</th>\n    </tr>\n  </thead>\n  <tbody>\n    <tr>\n      <th>0</th>\n      <td>0</td>\n      <td>UY</td>\n      <td>Uruguay</td>\n      <td>AEROCLUB MARAGATO</td>\n      <td>865501</td>\n      <td>99999</td>\n      <td>2021-01-01</td>\n      <td>2021</td>\n      <td>01</td>\n      <td>01</td>\n      <td>...</td>\n      <td>*</td>\n      <td>0.00</td>\n      <td>I</td>\n      <td>999.9</td>\n      <td>0</td>\n      <td>0</td>\n      <td>0</td>\n      <td>0</td>\n      <td>0</td>\n      <td>0</td>\n    </tr>\n    <tr>\n      <th>1</th>\n      <td>1</td>\n      <td>UY</td>\n      <td>Uruguay</td>\n      <td>AEROCLUB MARAGATO</td>\n      <td>865501</td>\n      <td>99999</td>\n      <td>2021-01-02</td>\n      <td>2021</td>\n      <td>01</td>\n      <td>02</td>\n      <td>...</td>\n      <td>*</td>\n      <td>0.00</td>\n      <td>I</td>\n      <td>999.9</td>\n      <td>0</td>\n      <td>0</td>\n      <td>0</td>\n      <td>0</td>\n      <td>0</td>\n      <td>0</td>\n    </tr>\n    <tr>\n      <th>2</th>\n      <td>2</td>\n      <td>UY</td>\n      <td>Uruguay</td>\n      <td>AEROCLUB MARAGATO</td>\n      <td>865501</td>\n      <td>99999</td>\n      <td>2021-01-03</td>\n      <td>2021</td>\n      <td>01</td>\n      <td>03</td>\n      <td>...</td>\n      <td>*</td>\n      <td>0.00</td>\n      <td>I</td>\n      <td>999.9</td>\n      <td>0</td>\n      <td>0</td>\n      <td>0</td>\n      <td>0</td>\n      <td>0</td>\n      <td>0</td>\n    </tr>\n    <tr>\n      <th>3</th>\n      <td>3</td>\n      <td>UY</td>\n      <td>Uruguay</td>\n      <td>AEROCLUB MARAGATO</td>\n      <td>865501</td>\n      <td>99999</td>\n      <td>2021-01-04</td>\n      <td>2021</td>\n      <td>01</td>\n      <td>04</td>\n      <td>...</td>\n      <td>*</td>\n      <td>0.00</td>\n      <td>I</td>\n      <td>999.9</td>\n      <td>0</td>\n      <td>0</td>\n      <td>0</td>\n      <td>0</td>\n      <td>0</td>\n      <td>0</td>\n    </tr>\n    <tr>\n      <th>4</th>\n      <td>4</td>\n      <td>UY</td>\n      <td>Uruguay</td>\n      <td>AEROCLUB MARAGATO</td>\n      <td>865501</td>\n      <td>99999</td>\n      <td>2021-01-05</td>\n      <td>2021</td>\n      <td>01</td>\n      <td>05</td>\n      <td>...</td>\n      <td>*</td>\n      <td>0.20</td>\n      <td>A</td>\n      <td>999.9</td>\n      <td>1</td>\n      <td>0</td>\n      <td>0</td>\n      <td>1</td>\n      <td>0</td>\n      <td>10010</td>\n    </tr>\n    <tr>\n      <th>5</th>\n      <td>5</td>\n      <td>UY</td>\n      <td>Uruguay</td>\n      <td>AEROCLUB MARAGATO</td>\n      <td>865501</td>\n      <td>99999</td>\n      <td>2021-01-06</td>\n      <td>2021</td>\n      <td>01</td>\n      <td>06</td>\n      <td>...</td>\n      <td>*</td>\n      <td>0.00</td>\n      <td>I</td>\n      <td>999.9</td>\n      <td>0</td>\n      <td>0</td>\n      <td>0</td>\n      <td>0</td>\n      <td>0</td>\n      <td>0</td>\n    </tr>\n    <tr>\n      <th>6</th>\n      <td>6</td>\n      <td>UY</td>\n      <td>Uruguay</td>\n      <td>AEROCLUB MARAGATO</td>\n      <td>865501</td>\n      <td>99999</td>\n      <td>2021-01-07</td>\n      <td>2021</td>\n      <td>01</td>\n      <td>07</td>\n      <td>...</td>\n      <td>*</td>\n      <td>99.99</td>\n      <td>None</td>\n      <td>999.9</td>\n      <td>1</td>\n      <td>0</td>\n      <td>0</td>\n      <td>0</td>\n      <td>0</td>\n      <td>10000</td>\n    </tr>\n    <tr>\n      <th>7</th>\n      <td>7</td>\n      <td>UY</td>\n      <td>Uruguay</td>\n      <td>AEROCLUB MARAGATO</td>\n      <td>865501</td>\n      <td>99999</td>\n      <td>2021-01-08</td>\n      <td>2021</td>\n      <td>01</td>\n      <td>08</td>\n      <td>...</td>\n      <td>*</td>\n      <td>0.00</td>\n      <td>G</td>\n      <td>999.9</td>\n      <td>0</td>\n      <td>0</td>\n      <td>0</td>\n      <td>0</td>\n      <td>0</td>\n      <td>0</td>\n    </tr>\n    <tr>\n      <th>8</th>\n      <td>8</td>\n      <td>UY</td>\n      <td>Uruguay</td>\n      <td>AEROCLUB MARAGATO</td>\n      <td>865501</td>\n      <td>99999</td>\n      <td>2021-01-09</td>\n      <td>2021</td>\n      <td>01</td>\n      <td>09</td>\n      <td>...</td>\n      <td>*</td>\n      <td>99.99</td>\n      <td>None</td>\n      <td>999.9</td>\n      <td>1</td>\n      <td>0</td>\n      <td>0</td>\n      <td>0</td>\n      <td>0</td>\n      <td>10000</td>\n    </tr>\n    <tr>\n      <th>9</th>\n      <td>9</td>\n      <td>UY</td>\n      <td>Uruguay</td>\n      <td>AEROCLUB MARAGATO</td>\n      <td>865501</td>\n      <td>99999</td>\n      <td>2021-01-10</td>\n      <td>2021</td>\n      <td>01</td>\n      <td>10</td>\n      <td>...</td>\n      <td>*</td>\n      <td>0.00</td>\n      <td>I</td>\n      <td>999.9</td>\n      <td>0</td>\n      <td>0</td>\n      <td>0</td>\n      <td>0</td>\n      <td>0</td>\n      <td>0</td>\n    </tr>\n  </tbody>\n</table>\n<p>10 rows × 37 columns</p>\n</div>"
     },
     "execution_count": 3,
     "metadata": {},
     "output_type": "execute_result"
    }
   ],
   "source": [
    "query_example = \"\"\"\n",
    "SELECT *\n",
    "FROM weather_station\n",
    "LIMIT 10\n",
    "\"\"\"\n",
    "\n",
    "pd.read_sql(query_example, con=db_connection)"
   ],
   "metadata": {
    "collapsed": false,
    "pycharm": {
     "name": "#%%\n"
    }
   }
  },
  {
   "cell_type": "code",
   "execution_count": null,
   "outputs": [],
   "source": [],
   "metadata": {
    "collapsed": false,
    "pycharm": {
     "name": "#%%\n"
    }
   }
  }
 ],
 "metadata": {
  "kernelspec": {
   "display_name": "Python 3",
   "language": "python",
   "name": "python3"
  },
  "language_info": {
   "codemirror_mode": {
    "name": "ipython",
    "version": 3
   },
   "file_extension": ".py",
   "mimetype": "text/x-python",
   "name": "python",
   "nbconvert_exporter": "python",
   "pygments_lexer": "ipython3",
   "version": "3.8.10"
  },
  "toc": {
   "base_numbering": 1,
   "nav_menu": {},
   "number_sections": true,
   "sideBar": true,
   "skip_h1_title": false,
   "title_cell": "Table of Contents",
   "title_sidebar": "Contents",
   "toc_cell": false,
   "toc_position": {},
   "toc_section_display": true,
   "toc_window_display": false
  },
  "varInspector": {
   "cols": {
    "lenName": 16,
    "lenType": 16,
    "lenVar": 40
   },
   "kernels_config": {
    "python": {
     "delete_cmd_postfix": "",
     "delete_cmd_prefix": "del ",
     "library": "var_list.py",
     "varRefreshCmd": "print(var_dic_list())"
    },
    "r": {
     "delete_cmd_postfix": ") ",
     "delete_cmd_prefix": "rm(",
     "library": "var_list.r",
     "varRefreshCmd": "cat(var_dic_list()) "
    }
   },
   "types_to_exclude": [
    "module",
    "function",
    "builtin_function_or_method",
    "instance",
    "_Feature"
   ],
   "window_display": false
  }
 },
 "nbformat": 4,
 "nbformat_minor": 5
}
