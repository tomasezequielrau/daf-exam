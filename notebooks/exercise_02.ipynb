{
 "cells": [
  {
   "cell_type": "markdown",
   "source": [
    "# Problema 2 (Python)\n",
    "\n",
    "En este ejercicio la idea es resolver un problema de manipulación de datos y scripting en Python. Para ellos usa la misma base de datos del ejercicio 1 como dato de entrada para realizar las siguientes operaciones\n",
    "\n",
    "* Traer todos los datos de la base de datos a python\n",
    "* Agrupar por estación meteorológica y calcular las métricas min, max y avg para las columnas “temp”,  “prcp”, “visib”.\n",
    "* Crear una carpeta llamada results y dentro de esta otra con la fecha de la ejecución del script, ex. “results/2022-01-01/”\n",
    "* Guardar el resultado de las métricas para cada estación meteorológica en archivos separados (en la carpeta creada anteriormente) donde las columnas sean “temp”,  “prcp”, “visib”,  las filas min, max y avg y el nombre del archivo sea el nombre de la estación..\n"
   ],
   "metadata": {
    "collapsed": false,
    "pycharm": {
     "name": "#%% md\n"
    }
   }
  },
  {
   "cell_type": "code",
   "execution_count": 1,
   "outputs": [
    {
     "data": {
      "text/plain": "   index weather_station_country_code weather_station_country_name  \\\n0      0                           UY                      Uruguay   \n1      1                           UY                      Uruguay   \n2      2                           UY                      Uruguay   \n3      3                           UY                      Uruguay   \n4      4                           UY                      Uruguay   \n5      5                           UY                      Uruguay   \n6      6                           UY                      Uruguay   \n7      7                           UY                      Uruguay   \n8      8                           UY                      Uruguay   \n9      9                           UY                      Uruguay   \n\n  weather_station_name weather_station_id   wban        date  year  mo  da  \\\n0    AEROCLUB MARAGATO             865501  99999  2021-01-01  2021  01  01   \n1    AEROCLUB MARAGATO             865501  99999  2021-01-02  2021  01  02   \n2    AEROCLUB MARAGATO             865501  99999  2021-01-03  2021  01  03   \n3    AEROCLUB MARAGATO             865501  99999  2021-01-04  2021  01  04   \n4    AEROCLUB MARAGATO             865501  99999  2021-01-05  2021  01  05   \n5    AEROCLUB MARAGATO             865501  99999  2021-01-06  2021  01  06   \n6    AEROCLUB MARAGATO             865501  99999  2021-01-07  2021  01  07   \n7    AEROCLUB MARAGATO             865501  99999  2021-01-08  2021  01  08   \n8    AEROCLUB MARAGATO             865501  99999  2021-01-09  2021  01  09   \n9    AEROCLUB MARAGATO             865501  99999  2021-01-10  2021  01  10   \n\n   ...  flag_min   prcp  flag_prcp   sndp  fog  rain_drizzle  \\\n0  ...         *   0.00          I  999.9    0             0   \n1  ...         *   0.00          I  999.9    0             0   \n2  ...         *   0.00          I  999.9    0             0   \n3  ...         *   0.00          I  999.9    0             0   \n4  ...         *   0.20          A  999.9    1             0   \n5  ...         *   0.00          I  999.9    0             0   \n6  ...         *  99.99       None  999.9    1             0   \n7  ...         *   0.00          G  999.9    0             0   \n8  ...         *  99.99       None  999.9    1             0   \n9  ...         *   0.00          I  999.9    0             0   \n\n   snow_ice_pellets  hail  thunder  tornado_funnel_cloud  \n0                 0     0        0                     0  \n1                 0     0        0                     0  \n2                 0     0        0                     0  \n3                 0     0        0                     0  \n4                 0     1        0                 10010  \n5                 0     0        0                     0  \n6                 0     0        0                 10000  \n7                 0     0        0                     0  \n8                 0     0        0                 10000  \n9                 0     0        0                     0  \n\n[10 rows x 37 columns]",
      "text/html": "<div>\n<style scoped>\n    .dataframe tbody tr th:only-of-type {\n        vertical-align: middle;\n    }\n\n    .dataframe tbody tr th {\n        vertical-align: top;\n    }\n\n    .dataframe thead th {\n        text-align: right;\n    }\n</style>\n<table border=\"1\" class=\"dataframe\">\n  <thead>\n    <tr style=\"text-align: right;\">\n      <th></th>\n      <th>index</th>\n      <th>weather_station_country_code</th>\n      <th>weather_station_country_name</th>\n      <th>weather_station_name</th>\n      <th>weather_station_id</th>\n      <th>wban</th>\n      <th>date</th>\n      <th>year</th>\n      <th>mo</th>\n      <th>da</th>\n      <th>...</th>\n      <th>flag_min</th>\n      <th>prcp</th>\n      <th>flag_prcp</th>\n      <th>sndp</th>\n      <th>fog</th>\n      <th>rain_drizzle</th>\n      <th>snow_ice_pellets</th>\n      <th>hail</th>\n      <th>thunder</th>\n      <th>tornado_funnel_cloud</th>\n    </tr>\n  </thead>\n  <tbody>\n    <tr>\n      <th>0</th>\n      <td>0</td>\n      <td>UY</td>\n      <td>Uruguay</td>\n      <td>AEROCLUB MARAGATO</td>\n      <td>865501</td>\n      <td>99999</td>\n      <td>2021-01-01</td>\n      <td>2021</td>\n      <td>01</td>\n      <td>01</td>\n      <td>...</td>\n      <td>*</td>\n      <td>0.00</td>\n      <td>I</td>\n      <td>999.9</td>\n      <td>0</td>\n      <td>0</td>\n      <td>0</td>\n      <td>0</td>\n      <td>0</td>\n      <td>0</td>\n    </tr>\n    <tr>\n      <th>1</th>\n      <td>1</td>\n      <td>UY</td>\n      <td>Uruguay</td>\n      <td>AEROCLUB MARAGATO</td>\n      <td>865501</td>\n      <td>99999</td>\n      <td>2021-01-02</td>\n      <td>2021</td>\n      <td>01</td>\n      <td>02</td>\n      <td>...</td>\n      <td>*</td>\n      <td>0.00</td>\n      <td>I</td>\n      <td>999.9</td>\n      <td>0</td>\n      <td>0</td>\n      <td>0</td>\n      <td>0</td>\n      <td>0</td>\n      <td>0</td>\n    </tr>\n    <tr>\n      <th>2</th>\n      <td>2</td>\n      <td>UY</td>\n      <td>Uruguay</td>\n      <td>AEROCLUB MARAGATO</td>\n      <td>865501</td>\n      <td>99999</td>\n      <td>2021-01-03</td>\n      <td>2021</td>\n      <td>01</td>\n      <td>03</td>\n      <td>...</td>\n      <td>*</td>\n      <td>0.00</td>\n      <td>I</td>\n      <td>999.9</td>\n      <td>0</td>\n      <td>0</td>\n      <td>0</td>\n      <td>0</td>\n      <td>0</td>\n      <td>0</td>\n    </tr>\n    <tr>\n      <th>3</th>\n      <td>3</td>\n      <td>UY</td>\n      <td>Uruguay</td>\n      <td>AEROCLUB MARAGATO</td>\n      <td>865501</td>\n      <td>99999</td>\n      <td>2021-01-04</td>\n      <td>2021</td>\n      <td>01</td>\n      <td>04</td>\n      <td>...</td>\n      <td>*</td>\n      <td>0.00</td>\n      <td>I</td>\n      <td>999.9</td>\n      <td>0</td>\n      <td>0</td>\n      <td>0</td>\n      <td>0</td>\n      <td>0</td>\n      <td>0</td>\n    </tr>\n    <tr>\n      <th>4</th>\n      <td>4</td>\n      <td>UY</td>\n      <td>Uruguay</td>\n      <td>AEROCLUB MARAGATO</td>\n      <td>865501</td>\n      <td>99999</td>\n      <td>2021-01-05</td>\n      <td>2021</td>\n      <td>01</td>\n      <td>05</td>\n      <td>...</td>\n      <td>*</td>\n      <td>0.20</td>\n      <td>A</td>\n      <td>999.9</td>\n      <td>1</td>\n      <td>0</td>\n      <td>0</td>\n      <td>1</td>\n      <td>0</td>\n      <td>10010</td>\n    </tr>\n    <tr>\n      <th>5</th>\n      <td>5</td>\n      <td>UY</td>\n      <td>Uruguay</td>\n      <td>AEROCLUB MARAGATO</td>\n      <td>865501</td>\n      <td>99999</td>\n      <td>2021-01-06</td>\n      <td>2021</td>\n      <td>01</td>\n      <td>06</td>\n      <td>...</td>\n      <td>*</td>\n      <td>0.00</td>\n      <td>I</td>\n      <td>999.9</td>\n      <td>0</td>\n      <td>0</td>\n      <td>0</td>\n      <td>0</td>\n      <td>0</td>\n      <td>0</td>\n    </tr>\n    <tr>\n      <th>6</th>\n      <td>6</td>\n      <td>UY</td>\n      <td>Uruguay</td>\n      <td>AEROCLUB MARAGATO</td>\n      <td>865501</td>\n      <td>99999</td>\n      <td>2021-01-07</td>\n      <td>2021</td>\n      <td>01</td>\n      <td>07</td>\n      <td>...</td>\n      <td>*</td>\n      <td>99.99</td>\n      <td>None</td>\n      <td>999.9</td>\n      <td>1</td>\n      <td>0</td>\n      <td>0</td>\n      <td>0</td>\n      <td>0</td>\n      <td>10000</td>\n    </tr>\n    <tr>\n      <th>7</th>\n      <td>7</td>\n      <td>UY</td>\n      <td>Uruguay</td>\n      <td>AEROCLUB MARAGATO</td>\n      <td>865501</td>\n      <td>99999</td>\n      <td>2021-01-08</td>\n      <td>2021</td>\n      <td>01</td>\n      <td>08</td>\n      <td>...</td>\n      <td>*</td>\n      <td>0.00</td>\n      <td>G</td>\n      <td>999.9</td>\n      <td>0</td>\n      <td>0</td>\n      <td>0</td>\n      <td>0</td>\n      <td>0</td>\n      <td>0</td>\n    </tr>\n    <tr>\n      <th>8</th>\n      <td>8</td>\n      <td>UY</td>\n      <td>Uruguay</td>\n      <td>AEROCLUB MARAGATO</td>\n      <td>865501</td>\n      <td>99999</td>\n      <td>2021-01-09</td>\n      <td>2021</td>\n      <td>01</td>\n      <td>09</td>\n      <td>...</td>\n      <td>*</td>\n      <td>99.99</td>\n      <td>None</td>\n      <td>999.9</td>\n      <td>1</td>\n      <td>0</td>\n      <td>0</td>\n      <td>0</td>\n      <td>0</td>\n      <td>10000</td>\n    </tr>\n    <tr>\n      <th>9</th>\n      <td>9</td>\n      <td>UY</td>\n      <td>Uruguay</td>\n      <td>AEROCLUB MARAGATO</td>\n      <td>865501</td>\n      <td>99999</td>\n      <td>2021-01-10</td>\n      <td>2021</td>\n      <td>01</td>\n      <td>10</td>\n      <td>...</td>\n      <td>*</td>\n      <td>0.00</td>\n      <td>I</td>\n      <td>999.9</td>\n      <td>0</td>\n      <td>0</td>\n      <td>0</td>\n      <td>0</td>\n      <td>0</td>\n      <td>0</td>\n    </tr>\n  </tbody>\n</table>\n<p>10 rows × 37 columns</p>\n</div>"
     },
     "execution_count": 1,
     "metadata": {},
     "output_type": "execute_result"
    }
   ],
   "source": [
    "import pandas as pd\n",
    "import sqlite3\n",
    "\n",
    "db_connection = sqlite3.connect('../data/weather_station.db')\n",
    "query_example = \"\"\"\n",
    "SELECT *\n",
    "FROM weather_station\n",
    "LIMIT 10\n",
    "\"\"\"\n",
    "\n",
    "pd.read_sql(query_example, con=db_connection)"
   ],
   "metadata": {
    "collapsed": false,
    "pycharm": {
     "name": "#%%\n"
    }
   }
  },
  {
   "cell_type": "code",
   "execution_count": null,
   "outputs": [],
   "source": [],
   "metadata": {
    "collapsed": false,
    "pycharm": {
     "name": "#%%\n"
    }
   }
  }
 ],
 "metadata": {
  "kernelspec": {
   "display_name": "Python 3",
   "language": "python",
   "name": "python3"
  },
  "language_info": {
   "codemirror_mode": {
    "name": "ipython",
    "version": 3
   },
   "file_extension": ".py",
   "mimetype": "text/x-python",
   "name": "python",
   "nbconvert_exporter": "python",
   "pygments_lexer": "ipython3",
   "version": "3.8.10"
  },
  "toc": {
   "base_numbering": 1,
   "nav_menu": {},
   "number_sections": true,
   "sideBar": true,
   "skip_h1_title": false,
   "title_cell": "Table of Contents",
   "title_sidebar": "Contents",
   "toc_cell": false,
   "toc_position": {},
   "toc_section_display": true,
   "toc_window_display": false
  },
  "varInspector": {
   "cols": {
    "lenName": 16,
    "lenType": 16,
    "lenVar": 40
   },
   "kernels_config": {
    "python": {
     "delete_cmd_postfix": "",
     "delete_cmd_prefix": "del ",
     "library": "var_list.py",
     "varRefreshCmd": "print(var_dic_list())"
    },
    "r": {
     "delete_cmd_postfix": ") ",
     "delete_cmd_prefix": "rm(",
     "library": "var_list.r",
     "varRefreshCmd": "cat(var_dic_list()) "
    }
   },
   "types_to_exclude": [
    "module",
    "function",
    "builtin_function_or_method",
    "instance",
    "_Feature"
   ],
   "window_display": false
  }
 },
 "nbformat": 4,
 "nbformat_minor": 5
}
